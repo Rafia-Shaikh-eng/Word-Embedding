{
  "nbformat": 4,
  "nbformat_minor": 0,
  "metadata": {
    "colab": {
      "provenance": []
    },
    "kernelspec": {
      "name": "python3",
      "display_name": "Python 3"
    },
    "language_info": {
      "name": "python"
    }
  },
  "cells": [
    {
      "cell_type": "code",
      "source": [
        "import numpy as np\n",
        "import torch\n",
        "import torch.nn as nn\n",
        "import torch.optim as optim\n",
        "from sklearn.decomposition import PCA\n",
        "import matplotlib.pyplot as plt\n",
        "import re\n",
        "from nltk.corpus import stopwords\n",
        "import nltk\n",
        "\n",
        "nltk.download('stopwords')\n"
      ],
      "metadata": {
        "colab": {
          "base_uri": "https://localhost:8080/"
        },
        "id": "yS2LtJEUp8_x",
        "outputId": "d78fc9cd-0a6e-4fb6-8c2e-6a2cc408a5f9"
      },
      "execution_count": 1,
      "outputs": [
        {
          "output_type": "stream",
          "name": "stderr",
          "text": [
            "[nltk_data] Downloading package stopwords to /root/nltk_data...\n",
            "[nltk_data]   Package stopwords is already up-to-date!\n"
          ]
        },
        {
          "output_type": "execute_result",
          "data": {
            "text/plain": [
              "True"
            ]
          },
          "metadata": {},
          "execution_count": 1
        }
      ]
    },
    {
      "cell_type": "markdown",
      "source": [
        "#Task 1"
      ],
      "metadata": {
        "id": "fKUZ2RN5p-zW"
      }
    },
    {
      "cell_type": "code",
      "source": [
        "with open('text_corpus.txt', 'r') as f:\n",
        "    text = f.read().lower()\n",
        "\n",
        "# Tokenize and clean\n",
        "tokens = re.findall(r'\\b\\w+\\b', text)\n",
        "stop_words = set(stopwords.words('english'))\n",
        "tokens = [word for word in tokens if word not in stop_words and not re.match(r'^\\d+$', word)]\n",
        "\n",
        "# Create mappings\n",
        "vocab = sorted(set(tokens))\n",
        "word2idx = {word: idx for idx, word in enumerate(vocab)}\n",
        "idx2word = {idx: word for idx, word in enumerate(vocab)}\n",
        "vocab_size = len(vocab)\n",
        "\n",
        "# Generate Skip-gram pairs\n",
        "window_size = 2\n",
        "skipgram_pairs = []\n",
        "for i in range(len(tokens)):\n",
        "    target = tokens[i]\n",
        "    for j in range(max(0, i - window_size), min(len(tokens), i + window_size + 1)):\n",
        "        if j != i:\n",
        "            context = tokens[j]\n",
        "            skipgram_pairs.append((target, context))\n",
        "\n",
        "# Convert pairs to indices\n",
        "X_skipgram = torch.tensor([word2idx[pair[0]] for pair in skipgram_pairs])\n",
        "Y_skipgram = torch.tensor([word2idx[pair[1]] for pair in skipgram_pairs])\n"
      ],
      "metadata": {
        "id": "CoopYAVNqDGX"
      },
      "execution_count": 2,
      "outputs": []
    },
    {
      "cell_type": "code",
      "source": [
        "text"
      ],
      "metadata": {
        "colab": {
          "base_uri": "https://localhost:8080/",
          "height": 36
        },
        "id": "UoikqILcqmG6",
        "outputId": "3af262da-3fbc-414b-8a1f-5706c6a220b5"
      },
      "execution_count": 3,
      "outputs": [
        {
          "output_type": "execute_result",
          "data": {
            "text/plain": [
              "'deep learning is amazing. machine learning is powerful. ai is the future. \\ncomputers can learn from data. data is crucial for ai.'"
            ],
            "application/vnd.google.colaboratory.intrinsic+json": {
              "type": "string"
            }
          },
          "metadata": {},
          "execution_count": 3
        }
      ]
    },
    {
      "cell_type": "code",
      "source": [
        "tokens"
      ],
      "metadata": {
        "colab": {
          "base_uri": "https://localhost:8080/"
        },
        "id": "6EZrNZpvqo84",
        "outputId": "3c373eb5-62ca-4594-88a4-8f5caf72e223"
      },
      "execution_count": 4,
      "outputs": [
        {
          "output_type": "execute_result",
          "data": {
            "text/plain": [
              "['deep',\n",
              " 'learning',\n",
              " 'amazing',\n",
              " 'machine',\n",
              " 'learning',\n",
              " 'powerful',\n",
              " 'ai',\n",
              " 'future',\n",
              " 'computers',\n",
              " 'learn',\n",
              " 'data',\n",
              " 'data',\n",
              " 'crucial',\n",
              " 'ai']"
            ]
          },
          "metadata": {},
          "execution_count": 4
        }
      ]
    },
    {
      "cell_type": "code",
      "source": [
        "vocab"
      ],
      "metadata": {
        "colab": {
          "base_uri": "https://localhost:8080/"
        },
        "id": "rW7tsg9lqv0p",
        "outputId": "ada84846-a475-407d-9ba8-5507ac29d93b"
      },
      "execution_count": 5,
      "outputs": [
        {
          "output_type": "execute_result",
          "data": {
            "text/plain": [
              "['ai',\n",
              " 'amazing',\n",
              " 'computers',\n",
              " 'crucial',\n",
              " 'data',\n",
              " 'deep',\n",
              " 'future',\n",
              " 'learn',\n",
              " 'learning',\n",
              " 'machine',\n",
              " 'powerful']"
            ]
          },
          "metadata": {},
          "execution_count": 5
        }
      ]
    },
    {
      "cell_type": "code",
      "source": [
        "word2idx"
      ],
      "metadata": {
        "colab": {
          "base_uri": "https://localhost:8080/"
        },
        "id": "Rb6lujl6qyEo",
        "outputId": "5c0eb987-6ecb-4c1a-fa6f-c94ea19277e5"
      },
      "execution_count": 6,
      "outputs": [
        {
          "output_type": "execute_result",
          "data": {
            "text/plain": [
              "{'ai': 0,\n",
              " 'amazing': 1,\n",
              " 'computers': 2,\n",
              " 'crucial': 3,\n",
              " 'data': 4,\n",
              " 'deep': 5,\n",
              " 'future': 6,\n",
              " 'learn': 7,\n",
              " 'learning': 8,\n",
              " 'machine': 9,\n",
              " 'powerful': 10}"
            ]
          },
          "metadata": {},
          "execution_count": 6
        }
      ]
    },
    {
      "cell_type": "code",
      "source": [
        "idx2word"
      ],
      "metadata": {
        "colab": {
          "base_uri": "https://localhost:8080/"
        },
        "id": "dOpa8xr3q0rG",
        "outputId": "36f1b69f-7c4a-4c1e-b925-4e41660d4667"
      },
      "execution_count": 7,
      "outputs": [
        {
          "output_type": "execute_result",
          "data": {
            "text/plain": [
              "{0: 'ai',\n",
              " 1: 'amazing',\n",
              " 2: 'computers',\n",
              " 3: 'crucial',\n",
              " 4: 'data',\n",
              " 5: 'deep',\n",
              " 6: 'future',\n",
              " 7: 'learn',\n",
              " 8: 'learning',\n",
              " 9: 'machine',\n",
              " 10: 'powerful'}"
            ]
          },
          "metadata": {},
          "execution_count": 7
        }
      ]
    },
    {
      "cell_type": "code",
      "source": [
        "skipgram_pairs"
      ],
      "metadata": {
        "colab": {
          "base_uri": "https://localhost:8080/"
        },
        "id": "1rwgxKQ4q3cS",
        "outputId": "3e0450da-f7e6-4abd-e30b-8afe8346d2a5"
      },
      "execution_count": 8,
      "outputs": [
        {
          "output_type": "execute_result",
          "data": {
            "text/plain": [
              "[('deep', 'learning'),\n",
              " ('deep', 'amazing'),\n",
              " ('learning', 'deep'),\n",
              " ('learning', 'amazing'),\n",
              " ('learning', 'machine'),\n",
              " ('amazing', 'deep'),\n",
              " ('amazing', 'learning'),\n",
              " ('amazing', 'machine'),\n",
              " ('amazing', 'learning'),\n",
              " ('machine', 'learning'),\n",
              " ('machine', 'amazing'),\n",
              " ('machine', 'learning'),\n",
              " ('machine', 'powerful'),\n",
              " ('learning', 'amazing'),\n",
              " ('learning', 'machine'),\n",
              " ('learning', 'powerful'),\n",
              " ('learning', 'ai'),\n",
              " ('powerful', 'machine'),\n",
              " ('powerful', 'learning'),\n",
              " ('powerful', 'ai'),\n",
              " ('powerful', 'future'),\n",
              " ('ai', 'learning'),\n",
              " ('ai', 'powerful'),\n",
              " ('ai', 'future'),\n",
              " ('ai', 'computers'),\n",
              " ('future', 'powerful'),\n",
              " ('future', 'ai'),\n",
              " ('future', 'computers'),\n",
              " ('future', 'learn'),\n",
              " ('computers', 'ai'),\n",
              " ('computers', 'future'),\n",
              " ('computers', 'learn'),\n",
              " ('computers', 'data'),\n",
              " ('learn', 'future'),\n",
              " ('learn', 'computers'),\n",
              " ('learn', 'data'),\n",
              " ('learn', 'data'),\n",
              " ('data', 'computers'),\n",
              " ('data', 'learn'),\n",
              " ('data', 'data'),\n",
              " ('data', 'crucial'),\n",
              " ('data', 'learn'),\n",
              " ('data', 'data'),\n",
              " ('data', 'crucial'),\n",
              " ('data', 'ai'),\n",
              " ('crucial', 'data'),\n",
              " ('crucial', 'data'),\n",
              " ('crucial', 'ai'),\n",
              " ('ai', 'data'),\n",
              " ('ai', 'crucial')]"
            ]
          },
          "metadata": {},
          "execution_count": 8
        }
      ]
    },
    {
      "cell_type": "code",
      "source": [
        "X_skipgram"
      ],
      "metadata": {
        "colab": {
          "base_uri": "https://localhost:8080/"
        },
        "id": "Zk4A9tLiq6Xd",
        "outputId": "f8fe0a92-a2c9-459f-9701-58c68159561b"
      },
      "execution_count": 9,
      "outputs": [
        {
          "output_type": "execute_result",
          "data": {
            "text/plain": [
              "tensor([ 5,  5,  8,  8,  8,  1,  1,  1,  1,  9,  9,  9,  9,  8,  8,  8,  8, 10,\n",
              "        10, 10, 10,  0,  0,  0,  0,  6,  6,  6,  6,  2,  2,  2,  2,  7,  7,  7,\n",
              "         7,  4,  4,  4,  4,  4,  4,  4,  4,  3,  3,  3,  0,  0])"
            ]
          },
          "metadata": {},
          "execution_count": 9
        }
      ]
    },
    {
      "cell_type": "code",
      "source": [
        "Y_skipgram"
      ],
      "metadata": {
        "colab": {
          "base_uri": "https://localhost:8080/"
        },
        "id": "Kij-bS9-q7Xj",
        "outputId": "0cb6668f-e0d8-4318-9fd6-a348b3cc7329"
      },
      "execution_count": 10,
      "outputs": [
        {
          "output_type": "execute_result",
          "data": {
            "text/plain": [
              "tensor([ 8,  1,  5,  1,  9,  5,  8,  9,  8,  8,  1,  8, 10,  1,  9, 10,  0,  9,\n",
              "         8,  0,  6,  8, 10,  6,  2, 10,  0,  2,  7,  0,  6,  7,  4,  6,  2,  4,\n",
              "         4,  2,  7,  4,  3,  7,  4,  3,  0,  4,  4,  0,  4,  3])"
            ]
          },
          "metadata": {},
          "execution_count": 10
        }
      ]
    },
    {
      "cell_type": "markdown",
      "source": [
        "#Task 2"
      ],
      "metadata": {
        "id": "-b-Vhx9FqEML"
      }
    },
    {
      "cell_type": "code",
      "source": [
        "class SkipGram(nn.Module):\n",
        "    def __init__(self, vocab_size, embedding_dim):\n",
        "        super().__init__()\n",
        "        self.embeddings = nn.Embedding(vocab_size, embedding_dim)\n",
        "        self.linear = nn.Linear(embedding_dim, vocab_size)\n",
        "\n",
        "    def forward(self, x):\n",
        "        x = self.embeddings(x)\n",
        "        x = self.linear(x)\n",
        "        return x\n",
        "\n",
        "# Initialize model\n",
        "embedding_dim = 100\n",
        "model = SkipGram(vocab_size, embedding_dim)\n",
        "criterion = nn.CrossEntropyLoss()\n",
        "optimizer = optim.Adam(model.parameters(), lr=0.01)\n"
      ],
      "metadata": {
        "id": "sgRlbjoVqFkT"
      },
      "execution_count": 11,
      "outputs": []
    },
    {
      "cell_type": "markdown",
      "source": [
        "#Task 3"
      ],
      "metadata": {
        "id": "pxxokXfHqIoG"
      }
    },
    {
      "cell_type": "code",
      "source": [
        "epochs = 5000\n",
        "batch_size = 4\n",
        "\n",
        "for epoch in range(epochs):\n",
        "    epoch_loss = 0\n",
        "    for i in range(0, len(X_skipgram), batch_size):\n",
        "        x = X_skipgram[i:i+batch_size]\n",
        "        y = Y_skipgram[i:i+batch_size]\n",
        "\n",
        "        optimizer.zero_grad()\n",
        "        outputs = model(x)\n",
        "        loss = criterion(outputs, y)\n",
        "        loss.backward()\n",
        "        optimizer.step()\n",
        "        epoch_loss += loss.item()\n",
        "\n",
        "    if epoch % 100 == 0:\n",
        "        print(f\"Epoch {epoch}, Loss: {epoch_loss/len(X_skipgram):.4f}\")\n",
        "\n",
        "# Save embeddings\n",
        "embeddings_skipgram = model.embeddings.weight.data.numpy()\n"
      ],
      "metadata": {
        "colab": {
          "base_uri": "https://localhost:8080/"
        },
        "id": "5LXkqzojqKJ1",
        "outputId": "5302b3ca-104d-4e67-c017-c1aa4b5d822e"
      },
      "execution_count": 12,
      "outputs": [
        {
          "output_type": "stream",
          "name": "stdout",
          "text": [
            "Epoch 0, Loss: 0.7437\n",
            "Epoch 100, Loss: 0.3673\n",
            "Epoch 200, Loss: 0.3647\n",
            "Epoch 300, Loss: 0.3611\n",
            "Epoch 400, Loss: 0.3595\n",
            "Epoch 500, Loss: 0.3584\n",
            "Epoch 600, Loss: 0.3576\n",
            "Epoch 700, Loss: 0.3571\n",
            "Epoch 800, Loss: 0.3566\n",
            "Epoch 900, Loss: 0.3558\n",
            "Epoch 1000, Loss: 0.3554\n",
            "Epoch 1100, Loss: 0.3576\n",
            "Epoch 1200, Loss: 0.3549\n",
            "Epoch 1300, Loss: 0.3547\n",
            "Epoch 1400, Loss: 0.3550\n",
            "Epoch 1500, Loss: 0.3540\n",
            "Epoch 1600, Loss: 0.3537\n",
            "Epoch 1700, Loss: 0.3536\n",
            "Epoch 1800, Loss: 0.3532\n",
            "Epoch 1900, Loss: 0.3534\n",
            "Epoch 2000, Loss: 0.3534\n",
            "Epoch 2100, Loss: 0.3529\n",
            "Epoch 2200, Loss: 0.3531\n",
            "Epoch 2300, Loss: 0.3528\n",
            "Epoch 2400, Loss: 0.3528\n",
            "Epoch 2500, Loss: 0.3529\n",
            "Epoch 2600, Loss: 0.3526\n",
            "Epoch 2700, Loss: 0.3531\n",
            "Epoch 2800, Loss: 0.3523\n",
            "Epoch 2900, Loss: 0.3526\n",
            "Epoch 3000, Loss: 0.3533\n",
            "Epoch 3100, Loss: 0.3530\n",
            "Epoch 3200, Loss: 0.3522\n",
            "Epoch 3300, Loss: 0.3523\n",
            "Epoch 3400, Loss: 0.3523\n",
            "Epoch 3500, Loss: 0.3527\n",
            "Epoch 3600, Loss: 0.3519\n",
            "Epoch 3700, Loss: 0.3521\n",
            "Epoch 3800, Loss: 0.3522\n",
            "Epoch 3900, Loss: 0.3519\n",
            "Epoch 4000, Loss: 0.3519\n",
            "Epoch 4100, Loss: 0.3517\n",
            "Epoch 4200, Loss: 0.3518\n",
            "Epoch 4300, Loss: 0.3833\n",
            "Epoch 4400, Loss: 0.3517\n",
            "Epoch 4500, Loss: 0.3516\n",
            "Epoch 4600, Loss: 0.3516\n",
            "Epoch 4700, Loss: 0.3517\n",
            "Epoch 4800, Loss: 0.3514\n",
            "Epoch 4900, Loss: 0.3522\n"
          ]
        }
      ]
    },
    {
      "cell_type": "markdown",
      "source": [
        "#Task 4"
      ],
      "metadata": {
        "id": "JRgMlUZ0qNix"
      }
    },
    {
      "cell_type": "code",
      "source": [
        "# PCA for 2D projection\n",
        "pca = PCA(n_components=2)\n",
        "embeddings_2d = pca.fit_transform(embeddings_skipgram)\n",
        "\n",
        "# Plot\n",
        "plt.figure(figsize=(10, 8))\n",
        "for i, word in enumerate(vocab):\n",
        "    plt.scatter(embeddings_2d[i, 0], embeddings_2d[i, 1])\n",
        "    plt.annotate(word, (embeddings_2d[i, 0], embeddings_2d[i, 1]))\n",
        "plt.title(\"Skip-gram Word Embeddings\")\n",
        "plt.show()"
      ],
      "metadata": {
        "colab": {
          "base_uri": "https://localhost:8080/",
          "height": 699
        },
        "id": "_JVdyBShqVo9",
        "outputId": "aa40ce64-2313-42bb-a850-a22b877aa417"
      },
      "execution_count": 13,
      "outputs": [
        {
          "output_type": "display_data",
          "data": {
            "text/plain": [
              "<Figure size 1000x800 with 1 Axes>"
            ],
            "image/png": "[encoded data removed]"
          },
          "metadata": {}
        }
      ]
    },
    {
      "cell_type": "markdown",
      "source": [
        "#Task 5"
      ],
      "metadata": {
        "id": "6JF_GtzMqaHf"
      }
    },
    {
      "cell_type": "code",
      "source": [
        "# Generate CBOW pairs\n",
        "def generate_cbow_pairs(tokens, window_size=2):\n",
        "    pairs = []\n",
        "    for i in range(len(tokens)):\n",
        "        target = tokens[i]\n",
        "        context = [\n",
        "            tokens[j]\n",
        "            for j in range(i - window_size, i + window_size + 1)\n",
        "            if j != i and 0 <= j < len(tokens)\n",
        "        ]\n",
        "        pairs.append((context, target))\n",
        "    return pairs\n",
        "\n",
        "cbow_pairs = generate_cbow_pairs(tokens)\n",
        "\n",
        "# Pad sequences\n",
        "max_context_len = 2 * window_size\n",
        "X_cbow = []\n",
        "Y_cbow = []\n",
        "for context, target in cbow_pairs:\n",
        "    context_indices = [word2idx[word] for word in context] + [0] * (max_context_len - len(context))\n",
        "    X_cbow.append(context_indices)\n",
        "    Y_cbow.append(word2idx[target])\n",
        "\n",
        "X_cbow = torch.tensor(X_cbow)\n",
        "Y_cbow = torch.tensor(Y_cbow)\n",
        "\n",
        "# CBOW Model\n",
        "class CBOW(nn.Module):\n",
        "    def __init__(self, vocab_size, embedding_dim):\n",
        "        super().__init__()\n",
        "        self.embeddings = nn.Embedding(vocab_size, embedding_dim)\n",
        "        self.linear = nn.Linear(embedding_dim, vocab_size)\n",
        "\n",
        "    def forward(self, x):\n",
        "        x = self.embeddings(x).mean(dim=1)\n",
        "        x = self.linear(x)\n",
        "        return x\n",
        "\n",
        "# Train CBOW\n",
        "cbow_model = CBOW(vocab_size, embedding_dim)\n",
        "optimizer = optim.Adam(cbow_model.parameters(), lr=0.01)\n",
        "\n",
        "for epoch in range(epochs):\n",
        "    optimizer.zero_grad()\n",
        "    outputs = cbow_model(X_cbow)\n",
        "    loss = criterion(outputs, Y_cbow)\n",
        "    loss.backward()\n",
        "    optimizer.step()\n",
        "\n",
        "    if epoch % 100 == 0:\n",
        "        print(f\"CBOW Epoch {epoch}, Loss: {loss.item():.4f}\")\n",
        "\n",
        "# Analogy function\n",
        "def analogy(a, b, c, embeddings, word2idx, idx2word):\n",
        "    try:\n",
        "        vec = embeddings[word2idx[a]] - embeddings[word2idx[b]] + embeddings[word2idx[c]]\n",
        "        distances = np.dot(embeddings, vec)\n",
        "        closest_idx = np.argmax(distances)\n",
        "        return idx2word[closest_idx]\n",
        "    except KeyError:\n",
        "        return \"Word not in vocabulary\"\n",
        "\n",
        "# Test analogy (example with existing words)\n",
        "result = analogy(\"learning\", \"deep\", \"machine\", cbow_model.embeddings.weight.data.numpy(), word2idx, idx2word)\n",
        "print(f\"'learning - deep + machine' = {result}\")\n"
      ],
      "metadata": {
        "colab": {
          "base_uri": "https://localhost:8080/"
        },
        "id": "MQcOU2fHp1a4",
        "outputId": "d0c6994b-e629-4380-fc9d-5f7c24926fe8"
      },
      "execution_count": 14,
      "outputs": [
        {
          "output_type": "stream",
          "name": "stdout",
          "text": [
            "CBOW Epoch 0, Loss: 2.5062\n",
            "CBOW Epoch 100, Loss: 0.0046\n",
            "CBOW Epoch 200, Loss: 0.0019\n",
            "CBOW Epoch 300, Loss: 0.0010\n",
            "CBOW Epoch 400, Loss: 0.0006\n",
            "CBOW Epoch 500, Loss: 0.0004\n",
            "CBOW Epoch 600, Loss: 0.0003\n",
            "CBOW Epoch 700, Loss: 0.0002\n",
            "CBOW Epoch 800, Loss: 0.0002\n",
            "CBOW Epoch 900, Loss: 0.0002\n",
            "CBOW Epoch 1000, Loss: 0.0001\n",
            "CBOW Epoch 1100, Loss: 0.0001\n",
            "CBOW Epoch 1200, Loss: 0.0001\n",
            "CBOW Epoch 1300, Loss: 0.0001\n",
            "CBOW Epoch 1400, Loss: 0.0001\n",
            "CBOW Epoch 1500, Loss: 0.0001\n",
            "CBOW Epoch 1600, Loss: 0.0001\n",
            "CBOW Epoch 1700, Loss: 0.0000\n",
            "CBOW Epoch 1800, Loss: 0.0000\n",
            "CBOW Epoch 1900, Loss: 0.0000\n",
            "CBOW Epoch 2000, Loss: 0.0000\n",
            "CBOW Epoch 2100, Loss: 0.0000\n",
            "CBOW Epoch 2200, Loss: 0.0000\n",
            "CBOW Epoch 2300, Loss: 0.0000\n",
            "CBOW Epoch 2400, Loss: 0.0000\n",
            "CBOW Epoch 2500, Loss: 0.0000\n",
            "CBOW Epoch 2600, Loss: 0.0000\n",
            "CBOW Epoch 2700, Loss: 0.0000\n",
            "CBOW Epoch 2800, Loss: 0.0000\n",
            "CBOW Epoch 2900, Loss: 0.0000\n",
            "CBOW Epoch 3000, Loss: 0.0000\n",
            "CBOW Epoch 3100, Loss: 0.0000\n",
            "CBOW Epoch 3200, Loss: 0.0000\n",
            "CBOW Epoch 3300, Loss: 0.0000\n",
            "CBOW Epoch 3400, Loss: 0.0000\n",
            "CBOW Epoch 3500, Loss: 0.0000\n",
            "CBOW Epoch 3600, Loss: 0.0000\n",
            "CBOW Epoch 3700, Loss: 0.0000\n",
            "CBOW Epoch 3800, Loss: 0.0000\n",
            "CBOW Epoch 3900, Loss: 0.0000\n",
            "CBOW Epoch 4000, Loss: 0.0000\n",
            "CBOW Epoch 4100, Loss: 0.0000\n",
            "CBOW Epoch 4200, Loss: 0.0000\n",
            "CBOW Epoch 4300, Loss: 0.0000\n",
            "CBOW Epoch 4400, Loss: 0.0000\n",
            "CBOW Epoch 4500, Loss: 0.0000\n",
            "CBOW Epoch 4600, Loss: 0.0000\n",
            "CBOW Epoch 4700, Loss: 0.0000\n",
            "CBOW Epoch 4800, Loss: 0.0000\n",
            "CBOW Epoch 4900, Loss: 0.0000\n",
            "'learning - deep + machine' = learning\n"
          ]
        }
      ]
    },
    {
      "cell_type": "code",
      "source": [],
      "metadata": {
        "id": "kBs_Ywy4rKEg"
      },
      "execution_count": 14,
      "outputs": []
    }
  ]
}
